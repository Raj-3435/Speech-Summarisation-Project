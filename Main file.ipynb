{
 "cells": [
  {
   "cell_type": "code",
   "execution_count": 1,
   "id": "ef79cecc-264b-4bb1-aa74-00a882e341f4",
   "metadata": {},
   "outputs": [],
   "source": [
    "# !pip install vosk"
   ]
  },
  {
   "cell_type": "code",
   "execution_count": 2,
   "id": "1f4efbdb-635a-4973-b7c8-7b780421869c",
   "metadata": {},
   "outputs": [],
   "source": [
    "# !pip install pydub"
   ]
  },
  {
   "cell_type": "code",
   "execution_count": 3,
   "id": "d9adac2e-5fa3-476a-b4df-9b89cac5b7a0",
   "metadata": {},
   "outputs": [],
   "source": [
    "# !pip install transformers"
   ]
  },
  {
   "cell_type": "code",
   "execution_count": 4,
   "id": "d55820ab-399c-47d6-bfde-fb1b77a48471",
   "metadata": {},
   "outputs": [],
   "source": [
    "# !pip install torch -f https://download.pytorch.org/whl/torch_stable.html"
   ]
  },
  {
   "cell_type": "code",
   "execution_count": 5,
   "id": "2f7becec-18b0-4f1c-b6a2-d2350a3c29cf",
   "metadata": {},
   "outputs": [],
   "source": [
    "from vosk import Model, KaldiRecognizer"
   ]
  },
  {
   "cell_type": "code",
   "execution_count": 6,
   "id": "4626ad50-c0c4-4558-93f6-49d7c5d09c3a",
   "metadata": {},
   "outputs": [],
   "source": [
    "FRAME_RATE = 16000   #the higher it is higher quality the audio\n",
    "CHANNELS = 1\n",
    "\n",
    "model = Model(model_name=\"vosk-model-small-en-us-0.15\")\n",
    "rec = KaldiRecognizer(model, FRAME_RATE)\n",
    "rec.SetWords(True)   "
   ]
  },
  {
   "cell_type": "code",
   "execution_count": 7,
   "id": "8ca3d576-2389-4bd0-81b8-2f425e721b5d",
   "metadata": {},
   "outputs": [],
   "source": [
    "from pydub import AudioSegment"
   ]
  },
  {
   "cell_type": "code",
   "execution_count": 8,
   "id": "63515fa5-0044-4daf-a8ab-9439668d3f75",
   "metadata": {},
   "outputs": [],
   "source": [
    "# # from pydub import AudioSegment\n",
    "# from pydub.utils import which\n",
    "\n",
    "# AudioSegment.converter = which(\"ffmpeg\") "
   ]
  },
  {
   "cell_type": "code",
   "execution_count": 9,
   "id": "a8787e54-81ed-46e0-85bf-622660db147e",
   "metadata": {},
   "outputs": [],
   "source": [
    "mp3 = AudioSegment.from_mp3(\"speech_recognition_marketplace.mp3\")\n",
    "mp3 = mp3.set_channels(CHANNELS)\n",
    "mp3 = mp3.set_frame_rate(FRAME_RATE)"
   ]
  },
  {
   "cell_type": "code",
   "execution_count": 10,
   "id": "556fe70e-0491-4765-8f86-90adcbf98d84",
   "metadata": {
    "scrolled": true
   },
   "outputs": [
    {
     "data": {
      "text/plain": [
       "'{\\n  \"result\" : [{\\n      \"conf\" : 1.000000,\\n      \"end\" : 0.150000,\\n      \"start\" : 0.000000,\\n      \"word\" : \"the\"\\n    }, {\\n      \"conf\" : 1.000000,\\n      \"end\" : 0.540000,\\n      \"start\" : 0.150000,\\n      \"word\" : \"funny\"\\n    }, {\\n      \"conf\" : 1.000000,\\n      \"end\" : 0.960000,\\n      \"start\" : 0.540000,\\n      \"word\" : \"thing\"\\n    }, {\\n      \"conf\" : 1.000000,\\n      \"end\" : 1.200000,\\n      \"start\" : 0.960000,\\n      \"word\" : \"about\"\\n    }, {\\n      \"conf\" : 1.000000,\\n      \"end\" : 1.290000,\\n      \"start\" : 1.200000,\\n      \"word\" : \"the\"\\n    }, {\\n      \"conf\" : 1.000000,\\n      \"end\" : 1.680000,\\n      \"start\" : 1.290000,\\n      \"word\" : \"big\"\\n    }, {\\n      \"conf\" : 1.000000,\\n      \"end\" : 2.220000,\\n      \"start\" : 1.710000,\\n      \"word\" : \"economic\"\\n    }, {\\n      \"conf\" : 1.000000,\\n      \"end\" : 2.460000,\\n      \"start\" : 2.220000,\\n      \"word\" : \"news\"\\n    }, {\\n      \"conf\" : 1.000000,\\n      \"end\" : 2.550000,\\n      \"start\" : 2.460000,\\n      \"word\" : \"of\"\\n    }, {\\n      \"conf\" : 1.000000,\\n      \"end\" : 2.640000,\\n      \"start\" : 2.550000,\\n      \"word\" : \"the\"\\n    }, {\\n      \"conf\" : 1.000000,\\n      \"end\" : 3.030000,\\n      \"start\" : 2.640000,\\n      \"word\" : \"day\"\\n    }, {\\n      \"conf\" : 1.000000,\\n      \"end\" : 3.720000,\\n      \"start\" : 3.600000,\\n      \"word\" : \"the\"\\n    }, {\\n      \"conf\" : 1.000000,\\n      \"end\" : 3.960000,\\n      \"start\" : 3.720000,\\n      \"word\" : \"fed\"\\n    }, {\\n      \"conf\" : 1.000000,\\n      \"end\" : 4.260000,\\n      \"start\" : 3.960000,\\n      \"word\" : \"raising\"\\n    }, {\\n      \"conf\" : 1.000000,\\n      \"end\" : 4.590000,\\n      \"start\" : 4.260000,\\n      \"word\" : \"interest\"\\n    }, {\\n      \"conf\" : 1.000000,\\n      \"end\" : 4.980000,\\n      \"start\" : 4.590000,\\n      \"word\" : \"rates\"\\n    }, {\\n      \"conf\" : 0.695137,\\n      \"end\" : 5.272012,\\n      \"start\" : 5.010000,\\n      \"word\" : \"have\"\\n    }, {\\n      \"conf\" : 1.000000,\\n      \"end\" : 5.310000,\\n      \"start\" : 5.272012,\\n      \"word\" : \"a\"\\n    }, {\\n      \"conf\" : 1.000000,\\n      \"end\" : 5.730000,\\n      \"start\" : 5.340000,\\n      \"word\" : \"percentage\"\\n    }, {\\n      \"conf\" : 1.000000,\\n      \"end\" : 6.000000,\\n      \"start\" : 5.730000,\\n      \"word\" : \"point\"\\n    }, {\\n      \"conf\" : 1.000000,\\n      \"end\" : 6.840000,\\n      \"start\" : 6.630000,\\n      \"word\" : \"was\"\\n    }, {\\n      \"conf\" : 1.000000,\\n      \"end\" : 6.960000,\\n      \"start\" : 6.840000,\\n      \"word\" : \"that\"\\n    }, {\\n      \"conf\" : 1.000000,\\n      \"end\" : 7.080000,\\n      \"start\" : 6.960000,\\n      \"word\" : \"there\"\\n    }, {\\n      \"conf\" : 1.000000,\\n      \"end\" : 7.200000,\\n      \"start\" : 7.080000,\\n      \"word\" : \"was\"\\n    }, {\\n      \"conf\" : 1.000000,\\n      \"end\" : 7.470000,\\n      \"start\" : 7.200000,\\n      \"word\" : \"only\"\\n    }, {\\n      \"conf\" : 1.000000,\\n      \"end\" : 7.770000,\\n      \"start\" : 7.470000,\\n      \"word\" : \"really\"\\n    }, {\\n      \"conf\" : 0.522709,\\n      \"end\" : 8.100000,\\n      \"start\" : 7.770000,\\n      \"word\" : \"one\"\\n    }, {\\n      \"conf\" : 0.731094,\\n      \"end\" : 8.640000,\\n      \"start\" : 8.430000,\\n      \"word\" : \"bit\"\\n    }, {\\n      \"conf\" : 1.000000,\\n      \"end\" : 8.820000,\\n      \"start\" : 8.640000,\\n      \"word\" : \"of\"\\n    }, {\\n      \"conf\" : 1.000000,\\n      \"end\" : 9.270000,\\n      \"start\" : 8.820000,\\n      \"word\" : \"actual\"\\n    }, {\\n      \"conf\" : 1.000000,\\n      \"end\" : 9.660000,\\n      \"start\" : 9.270000,\\n      \"word\" : \"news\"\\n    }, {\\n      \"conf\" : 1.000000,\\n      \"end\" : 9.780000,\\n      \"start\" : 9.660000,\\n      \"word\" : \"in\"\\n    }, {\\n      \"conf\" : 1.000000,\\n      \"end\" : 9.870000,\\n      \"start\" : 9.780000,\\n      \"word\" : \"the\"\\n    }, {\\n      \"conf\" : 1.000000,\\n      \"end\" : 10.260000,\\n      \"start\" : 9.870000,\\n      \"word\" : \"news\"\\n    }, {\\n      \"conf\" : 1.000000,\\n      \"end\" : 10.470000,\\n      \"start\" : 10.260000,\\n      \"word\" : \"and\"\\n    }, {\\n      \"conf\" : 1.000000,\\n      \"end\" : 10.590000,\\n      \"start\" : 10.470000,\\n      \"word\" : \"the\"\\n    }, {\\n      \"conf\" : 1.000000,\\n      \"end\" : 10.980000,\\n      \"start\" : 10.590000,\\n      \"word\" : \"interest\"\\n    }, {\\n      \"conf\" : 1.000000,\\n      \"end\" : 11.190000,\\n      \"start\" : 10.980000,\\n      \"word\" : \"rate\"\\n    }, {\\n      \"conf\" : 1.000000,\\n      \"end\" : 11.760000,\\n      \"start\" : 11.190000,\\n      \"word\" : \"increase\"\\n    }, {\\n      \"conf\" : 1.000000,\\n      \"end\" : 12.870000,\\n      \"start\" : 12.240000,\\n      \"word\" : \"wasn\\'t\"\\n    }, {\\n      \"conf\" : 1.000000,\\n      \"end\" : 13.350000,\\n      \"start\" : 12.990000,\\n      \"word\" : \"it\"\\n    }, {\\n      \"conf\" : 1.000000,\\n      \"end\" : 13.620000,\\n      \"start\" : 13.380000,\\n      \"word\" : \"you\"\\n    }, {\\n      \"conf\" : 1.000000,\\n      \"end\" : 13.770000,\\n      \"start\" : 13.620000,\\n      \"word\" : \"know\"\\n    }, {\\n      \"conf\" : 1.000000,\\n      \"end\" : 13.890000,\\n      \"start\" : 13.770000,\\n      \"word\" : \"it\"\\n    }, {\\n      \"conf\" : 1.000000,\\n      \"end\" : 14.010000,\\n      \"start\" : 13.890000,\\n      \"word\" : \"was\"\\n    }, {\\n      \"conf\" : 1.000000,\\n      \"end\" : 14.400000,\\n      \"start\" : 14.010000,\\n      \"word\" : \"common\"\\n    }, {\\n      \"conf\" : 1.000000,\\n      \"end\" : 14.850000,\\n      \"start\" : 14.580000,\\n      \"word\" : \"i\"\\n    }, {\\n      \"conf\" : 1.000000,\\n      \"end\" : 15.030000,\\n      \"start\" : 14.850000,\\n      \"word\" : \"know\"\\n    }, {\\n      \"conf\" : 1.000000,\\n      \"end\" : 15.150000,\\n      \"start\" : 15.030000,\\n      \"word\" : \"it\"\\n    }, {\\n      \"conf\" : 1.000000,\\n      \"end\" : 15.300000,\\n      \"start\" : 15.150000,\\n      \"word\" : \"was\"\\n    }, {\\n      \"conf\" : 1.000000,\\n      \"end\" : 15.630000,\\n      \"start\" : 15.300000,\\n      \"word\" : \"common\"\\n    }, {\\n      \"conf\" : 0.659231,\\n      \"end\" : 16.110000,\\n      \"start\" : 15.630000,\\n      \"word\" : \"wall\"\\n    }, {\\n      \"conf\" : 0.659231,\\n      \"end\" : 16.470000,\\n      \"start\" : 16.110000,\\n      \"word\" : \"street\"\\n    }, {\\n      \"conf\" : 1.000000,\\n      \"end\" : 16.860000,\\n      \"start\" : 16.470000,\\n      \"word\" : \"news\"\\n    }, {\\n      \"conf\" : 0.551880,\\n      \"end\" : 17.190000,\\n      \"start\" : 16.860000,\\n      \"word\" : \"common\"\\n    }, {\\n      \"conf\" : 1.000000,\\n      \"end\" : 18.210000,\\n      \"start\" : 17.220000,\\n      \"word\" : \"businesses\"\\n    }, {\\n      \"conf\" : 0.827150,\\n      \"end\" : 18.600000,\\n      \"start\" : 18.240000,\\n      \"word\" : \"knew\"\\n    }, {\\n      \"conf\" : 1.000000,\\n      \"end\" : 18.750000,\\n      \"start\" : 18.600000,\\n      \"word\" : \"it\"\\n    }, {\\n      \"conf\" : 1.000000,\\n      \"end\" : 18.930000,\\n      \"start\" : 18.750000,\\n      \"word\" : \"was\"\\n    }, {\\n      \"conf\" : 0.614166,\\n      \"end\" : 19.290000,\\n      \"start\" : 18.930000,\\n      \"word\" : \"common\"\\n    }, {\\n      \"conf\" : 1.000000,\\n      \"end\" : 20.070000,\\n      \"start\" : 19.770000,\\n      \"word\" : \"so\"\\n    }, {\\n      \"conf\" : 1.000000,\\n      \"end\" : 20.430000,\\n      \"start\" : 20.070000,\\n      \"word\" : \"on\"\\n    }, {\\n      \"conf\" : 1.000000,\\n      \"end\" : 20.760000,\\n      \"start\" : 20.520000,\\n      \"word\" : \"this\"\\n    }, {\\n      \"conf\" : 1.000000,\\n      \"end\" : 21.000000,\\n      \"start\" : 20.760000,\\n      \"word\" : \"fed\"\\n    }, {\\n      \"conf\" : 1.000000,\\n      \"end\" : 21.210000,\\n      \"start\" : 21.000000,\\n      \"word\" : \"day\"\\n    }, {\\n      \"conf\" : 1.000000,\\n      \"end\" : 21.330000,\\n      \"start\" : 21.210000,\\n      \"word\" : \"on\"\\n    }, {\\n      \"conf\" : 1.000000,\\n      \"end\" : 21.480000,\\n      \"start\" : 21.330000,\\n      \"word\" : \"this\"\\n    }, {\\n      \"conf\" : 1.000000,\\n      \"end\" : 21.900000,\\n      \"start\" : 21.480000,\\n      \"word\" : \"program\"\\n    }, {\\n      \"conf\" : 1.000000,\\n      \"end\" : 22.290000,\\n      \"start\" : 21.900000,\\n      \"word\" : \"something\"\\n    }, {\\n      \"conf\" : 1.000000,\\n      \"end\" : 22.350000,\\n      \"start\" : 22.290000,\\n      \"word\" : \"a\"\\n    }, {\\n      \"conf\" : 1.000000,\\n      \"end\" : 22.530000,\\n      \"start\" : 22.350000,\\n      \"word\" : \"little\"\\n    }, {\\n      \"conf\" : 1.000000,\\n      \"end\" : 22.650000,\\n      \"start\" : 22.530000,\\n      \"word\" : \"bit\"\\n    }, {\\n      \"conf\" : 1.000000,\\n      \"end\" : 22.980000,\\n      \"start\" : 22.650000,\\n      \"word\" : \"different\"\\n    }, {\\n      \"conf\" : 0.553051,\\n      \"end\" : 23.220000,\\n      \"start\" : 22.980000,\\n      \"word\" : \"j\"\\n    }, {\\n      \"conf\" : 0.923888,\\n      \"end\" : 23.730000,\\n      \"start\" : 23.220000,\\n      \"word\" : \"powell\"\\n    }, {\\n      \"conf\" : 0.597847,\\n      \"end\" : 23.880000,\\n      \"start\" : 23.730000,\\n      \"word\" : \"in\"\\n    }, {\\n      \"conf\" : 1.000000,\\n      \"end\" : 24.030000,\\n      \"start\" : 23.880000,\\n      \"word\" : \"his\"\\n    }, {\\n      \"conf\" : 1.000000,\\n      \"end\" : 24.300000,\\n      \"start\" : 24.030000,\\n      \"word\" : \"own\"\\n    }, {\\n      \"conf\" : 1.000000,\\n      \"end\" : 24.630000,\\n      \"start\" : 24.300000,\\n      \"word\" : \"words\"\\n    }, {\\n      \"conf\" : 1.000000,\\n      \"end\" : 25.140000,\\n      \"start\" : 24.660000,\\n      \"word\" : \"five\"\\n    }, {\\n      \"conf\" : 1.000000,\\n      \"end\" : 25.260000,\\n      \"start\" : 25.140000,\\n      \"word\" : \"of\"\\n    }, {\\n      \"conf\" : 0.490052,\\n      \"end\" : 25.410000,\\n      \"start\" : 25.260000,\\n      \"word\" : \"i\\'m\"\\n    }, {\\n      \"conf\" : 1.000000,\\n      \"end\" : 25.650000,\\n      \"start\" : 25.410000,\\n      \"word\" : \"his\"\\n    }, {\\n      \"conf\" : 1.000000,\\n      \"end\" : 26.160000,\\n      \"start\" : 25.650000,\\n      \"word\" : \"most\"\\n    }, {\\n      \"conf\" : 1.000000,\\n      \"end\" : 26.640000,\\n      \"start\" : 26.190000,\\n      \"word\" : \"used\"\\n    }, {\\n      \"conf\" : 1.000000,\\n      \"end\" : 27.150000,\\n      \"start\" : 26.640000,\\n      \"word\" : \"economic\"\\n    }, {\\n      \"conf\" : 0.594545,\\n      \"end\" : 27.360000,\\n      \"start\" : 27.150000,\\n      \"word\" : \"words\"\\n    }, {\\n      \"conf\" : 1.000000,\\n      \"end\" : 27.540000,\\n      \"start\" : 27.360000,\\n      \"word\" : \"from\"\\n    }, {\\n      \"conf\" : 1.000000,\\n      \"end\" : 27.810000,\\n      \"start\" : 27.540000,\\n      \"word\" : \"today\\'s\"\\n    }, {\\n      \"conf\" : 1.000000,\\n      \"end\" : 28.020000,\\n      \"start\" : 27.810000,\\n      \"word\" : \"press\"\\n    }, {\\n      \"conf\" : 1.000000,\\n      \"end\" : 28.380000,\\n      \"start\" : 28.020000,\\n      \"word\" : \"conference\"\\n    }, {\\n      \"conf\" : 0.552540,\\n      \"end\" : 29.070000,\\n      \"start\" : 28.890000,\\n      \"word\" : \"where\"\\n    }, {\\n      \"conf\" : 1.000000,\\n      \"end\" : 29.310000,\\n      \"start\" : 29.070000,\\n      \"word\" : \"number\"\\n    }, {\\n      \"conf\" : 1.000000,\\n      \"end\" : 29.550000,\\n      \"start\" : 29.310000,\\n      \"word\" : \"one\"\\n    }, {\\n      \"conf\" : 1.000000,\\n      \"end\" : 29.640000,\\n      \"start\" : 29.550000,\\n      \"word\" : \"of\"\\n    }, {\\n      \"conf\" : 1.000000,\\n      \"end\" : 30.120000,\\n      \"start\" : 29.640000,\\n      \"word\" : \"course\"\\n    }, {\\n      \"conf\" : 1.000000,\\n      \"end\" : 30.360000,\\n      \"start\" : 30.150000,\\n      \"word\" : \"it\\'s\"\\n    }, {\\n      \"conf\" : 1.000000,\\n      \"end\" : 30.480000,\\n      \"start\" : 30.360000,\\n      \"word\" : \"the\"\\n    }, {\\n      \"conf\" : 0.453988,\\n      \"end\" : 30.810000,\\n      \"start\" : 30.480000,\\n      \"word\" : \"biggie\"\\n    }, {\\n      \"conf\" : 0.801250,\\n      \"end\" : 31.440000,\\n      \"start\" : 31.200000,\\n      \"word\" : \"two\"\\n    }, {\\n      \"conf\" : 1.000000,\\n      \"end\" : 31.860000,\\n      \"start\" : 31.440000,\\n      \"word\" : \"percent\"\\n    }, {\\n      \"conf\" : 1.000000,\\n      \"end\" : 32.400000,\\n      \"start\" : 31.920000,\\n      \"word\" : \"inflation\"\\n    }, {\\n      \"conf\" : 0.490885,\\n      \"end\" : 32.627783,\\n      \"start\" : 32.400000,\\n      \"word\" : \"flesh\"\\n    }, {\\n      \"conf\" : 0.426556,\\n      \"end\" : 32.725554,\\n      \"start\" : 32.640000,\\n      \"word\" : \"and\"\\n    }, {\\n      \"conf\" : 1.000000,\\n      \"end\" : 33.180000,\\n      \"start\" : 32.725554,\\n      \"word\" : \"inflation\"\\n    }, {\\n      \"conf\" : 1.000000,\\n      \"end\" : 33.810000,\\n      \"start\" : 33.180000,\\n      \"word\" : \"inflation\"\\n    }, {\\n      \"conf\" : 1.000000,\\n      \"end\" : 34.440000,\\n      \"start\" : 33.840000,\\n      \"word\" : \"inflation\"\\n    }, {\\n      \"conf\" : 1.000000,\\n      \"end\" : 34.710000,\\n      \"start\" : 34.440000,\\n      \"word\" : \"place\"\\n    }, {\\n      \"conf\" : 1.000000,\\n      \"end\" : 34.770000,\\n      \"start\" : 34.710000,\\n      \"word\" : \"in\"\\n    }, {\\n      \"conf\" : 1.000000,\\n      \"end\" : 35.100000,\\n      \"start\" : 34.770000,\\n      \"word\" : \"english\"\\n    }, {\\n      \"conf\" : 1.000000,\\n      \"end\" : 35.400000,\\n      \"start\" : 35.100000,\\n      \"word\" : \"dealing\"\\n    }, {\\n      \"conf\" : 1.000000,\\n      \"end\" : 35.550000,\\n      \"start\" : 35.400000,\\n      \"word\" : \"with\"\\n    }, {\\n      \"conf\" : 1.000000,\\n      \"end\" : 36.030000,\\n      \"start\" : 35.550000,\\n      \"word\" : \"inflation\"\\n    }, {\\n      \"conf\" : 0.789621,\\n      \"end\" : 36.630000,\\n      \"start\" : 36.300000,\\n      \"word\" : \"bells\"\\n    }, {\\n      \"conf\" : 1.000000,\\n      \"end\" : 36.870000,\\n      \"start\" : 36.630000,\\n      \"word\" : \"big\"\\n    }, {\\n      \"conf\" : 1.000000,\\n      \"end\" : 37.170000,\\n      \"start\" : 36.870000,\\n      \"word\" : \"worry\"\\n    }, {\\n      \"conf\" : 0.558685,\\n      \"end\" : 37.285745,\\n      \"start\" : 37.170000,\\n      \"word\" : \"that\"\\n    }, {\\n      \"conf\" : 1.000000,\\n      \"end\" : 37.530000,\\n      \"start\" : 37.285745,\\n      \"word\" : \"thing\"\\n    }, {\\n      \"conf\" : 1.000000,\\n      \"end\" : 37.921542,\\n      \"start\" : 37.530000,\\n      \"word\" : \"keeping\"\\n    }, {\\n      \"conf\" : 0.813008,\\n      \"end\" : 38.070000,\\n      \"start\" : 37.921542,\\n      \"word\" : \"him\"\\n    }, {\\n      \"conf\" : 1.000000,\\n      \"end\" : 38.250000,\\n      \"start\" : 38.070000,\\n      \"word\" : \"up\"\\n    }, {\\n      \"conf\" : 1.000000,\\n      \"end\" : 38.340000,\\n      \"start\" : 38.250000,\\n      \"word\" : \"at\"\\n    }, {\\n      \"conf\" : 1.000000,\\n      \"end\" : 38.670000,\\n      \"start\" : 38.370000,\\n      \"word\" : \"night\"\\n    }, {\\n      \"conf\" : 1.000000,\\n      \"end\" : 39.240000,\\n      \"start\" : 38.700000,\\n      \"word\" : \"price\"\\n    }, {\\n      \"conf\" : 1.000000,\\n      \"end\" : 40.380000,\\n      \"start\" : 39.300000,\\n      \"word\" : \"stability\"\\n    }, {\\n      \"conf\" : 1.000000,\\n      \"end\" : 40.650000,\\n      \"start\" : 40.410000,\\n      \"word\" : \"is\"\\n    }, {\\n      \"conf\" : 1.000000,\\n      \"end\" : 40.770000,\\n      \"start\" : 40.650000,\\n      \"word\" : \"the\"\\n    }, {\\n      \"conf\" : 0.419379,\\n      \"end\" : 41.130000,\\n      \"start\" : 40.770000,\\n      \"word\" : \"feds\"\\n    }, {\\n      \"conf\" : 1.000000,\\n      \"end\" : 41.640000,\\n      \"start\" : 41.171202,\\n      \"word\" : \"whole\"\\n    }, {\\n      \"conf\" : 0.717333,\\n      \"end\" : 42.300000,\\n      \"start\" : 41.640000,\\n      \"word\" : \"ballgame\"\\n    }, {\\n      \"conf\" : 1.000000,\\n      \"end\" : 42.480000,\\n      \"start\" : 42.300000,\\n      \"word\" : \"right\"\\n    }, {\\n      \"conf\" : 1.000000,\\n      \"end\" : 42.750000,\\n      \"start\" : 42.480000,\\n      \"word\" : \"now\"\\n    }, {\\n      \"conf\" : 0.268630,\\n      \"end\" : 43.140000,\\n      \"start\" : 42.780000,\\n      \"word\" : \"pal\"\\n    }, {\\n      \"conf\" : 1.000000,\\n      \"end\" : 43.620000,\\n      \"start\" : 43.146138,\\n      \"word\" : \"basically\"\\n    }, {\\n      \"conf\" : 1.000000,\\n      \"end\" : 44.010000,\\n      \"start\" : 43.620000,\\n      \"word\" : \"said\"\\n    }, {\\n      \"conf\" : 1.000000,\\n      \"end\" : 44.250000,\\n      \"start\" : 44.010000,\\n      \"word\" : \"as\"\\n    }, {\\n      \"conf\" : 1.000000,\\n      \"end\" : 44.610000,\\n      \"start\" : 44.250000,\\n      \"word\" : \"much\"\\n    }, {\\n      \"conf\" : 0.621980,\\n      \"end\" : 44.910000,\\n      \"start\" : 44.760000,\\n      \"word\" : \"to\"\\n    }, {\\n      \"conf\" : 0.621980,\\n      \"end\" : 45.150000,\\n      \"start\" : 44.910000,\\n      \"word\" : \"day\"\\n    }, {\\n      \"conf\" : 1.000000,\\n      \"end\" : 45.300000,\\n      \"start\" : 45.150000,\\n      \"word\" : \"or\"\\n    }, {\\n      \"conf\" : 1.000000,\\n      \"end\" : 45.510000,\\n      \"start\" : 45.300000,\\n      \"word\" : \"number\"\\n    }, {\\n      \"conf\" : 1.000000,\\n      \"end\" : 45.840000,\\n      \"start\" : 45.510000,\\n      \"word\" : \"two\"\\n    }],\\n  \"text\" : \"the funny thing about the big economic news of the day the fed raising interest rates have a percentage point was that there was only really one bit of actual news in the news and the interest rate increase wasn\\'t it you know it was common i know it was common wall street news common businesses knew it was common so on this fed day on this program something a little bit different j powell in his own words five of i\\'m his most used economic words from today\\'s press conference where number one of course it\\'s the biggie two percent inflation flesh and inflation inflation inflation place in english dealing with inflation bells big worry that thing keeping him up at night price stability is the feds whole ballgame right now pal basically said as much to day or number two\"\\n}'"
      ]
     },
     "execution_count": 10,
     "metadata": {},
     "output_type": "execute_result"
    }
   ],
   "source": [
    "rec.AcceptWaveform(mp3.raw_data)\n",
    "result = rec.Result()\n",
    "result                         #need to import json file "
   ]
  },
  {
   "cell_type": "code",
   "execution_count": 11,
   "id": "e0b21baf-6cc2-492b-9b04-9a88530100d4",
   "metadata": {
    "scrolled": true
   },
   "outputs": [
    {
     "data": {
      "text/plain": [
       "\"the funny thing about the big economic news of the day the fed raising interest rates have a percentage point was that there was only really one bit of actual news in the news and the interest rate increase wasn't it you know it was common i know it was common wall street news common businesses knew it was common so on this fed day on this program something a little bit different j powell in his own words five of i'm his most used economic words from today's press conference where number one of course it's the biggie two percent inflation flesh and inflation inflation inflation place in english dealing with inflation bells big worry that thing keeping him up at night price stability is the feds whole ballgame right now pal basically said as much to day or number two\""
      ]
     },
     "execution_count": 11,
     "metadata": {},
     "output_type": "execute_result"
    }
   ],
   "source": [
    "import json \n",
    "text = json.loads(result)[\"text\"]\n",
    "text                           #text transcript of 45 sec"
   ]
  },
  {
   "cell_type": "code",
   "execution_count": 12,
   "id": "2371a821-624d-40d7-b53a-1fb26446dc82",
   "metadata": {
    "scrolled": true
   },
   "outputs": [
    {
     "data": {
      "text/plain": [
       "{'result': [{'conf': 1.0, 'end': 0.15, 'start': 0.0, 'word': 'the'},\n",
       "  {'conf': 1.0, 'end': 0.54, 'start': 0.15, 'word': 'funny'},\n",
       "  {'conf': 1.0, 'end': 0.96, 'start': 0.54, 'word': 'thing'},\n",
       "  {'conf': 1.0, 'end': 1.2, 'start': 0.96, 'word': 'about'},\n",
       "  {'conf': 1.0, 'end': 1.29, 'start': 1.2, 'word': 'the'},\n",
       "  {'conf': 1.0, 'end': 1.68, 'start': 1.29, 'word': 'big'},\n",
       "  {'conf': 1.0, 'end': 2.22, 'start': 1.71, 'word': 'economic'},\n",
       "  {'conf': 1.0, 'end': 2.46, 'start': 2.22, 'word': 'news'},\n",
       "  {'conf': 1.0, 'end': 2.55, 'start': 2.46, 'word': 'of'},\n",
       "  {'conf': 1.0, 'end': 2.64, 'start': 2.55, 'word': 'the'},\n",
       "  {'conf': 1.0, 'end': 3.03, 'start': 2.64, 'word': 'day'},\n",
       "  {'conf': 1.0, 'end': 3.72, 'start': 3.6, 'word': 'the'},\n",
       "  {'conf': 1.0, 'end': 3.96, 'start': 3.72, 'word': 'fed'},\n",
       "  {'conf': 1.0, 'end': 4.26, 'start': 3.96, 'word': 'raising'},\n",
       "  {'conf': 1.0, 'end': 4.59, 'start': 4.26, 'word': 'interest'},\n",
       "  {'conf': 1.0, 'end': 4.98, 'start': 4.59, 'word': 'rates'},\n",
       "  {'conf': 0.695137, 'end': 5.272012, 'start': 5.01, 'word': 'have'},\n",
       "  {'conf': 1.0, 'end': 5.31, 'start': 5.272012, 'word': 'a'},\n",
       "  {'conf': 1.0, 'end': 5.73, 'start': 5.34, 'word': 'percentage'},\n",
       "  {'conf': 1.0, 'end': 6.0, 'start': 5.73, 'word': 'point'},\n",
       "  {'conf': 1.0, 'end': 6.84, 'start': 6.63, 'word': 'was'},\n",
       "  {'conf': 1.0, 'end': 6.96, 'start': 6.84, 'word': 'that'},\n",
       "  {'conf': 1.0, 'end': 7.08, 'start': 6.96, 'word': 'there'},\n",
       "  {'conf': 1.0, 'end': 7.2, 'start': 7.08, 'word': 'was'},\n",
       "  {'conf': 1.0, 'end': 7.47, 'start': 7.2, 'word': 'only'},\n",
       "  {'conf': 1.0, 'end': 7.77, 'start': 7.47, 'word': 'really'},\n",
       "  {'conf': 0.522709, 'end': 8.1, 'start': 7.77, 'word': 'one'},\n",
       "  {'conf': 0.731094, 'end': 8.64, 'start': 8.43, 'word': 'bit'},\n",
       "  {'conf': 1.0, 'end': 8.82, 'start': 8.64, 'word': 'of'},\n",
       "  {'conf': 1.0, 'end': 9.27, 'start': 8.82, 'word': 'actual'},\n",
       "  {'conf': 1.0, 'end': 9.66, 'start': 9.27, 'word': 'news'},\n",
       "  {'conf': 1.0, 'end': 9.78, 'start': 9.66, 'word': 'in'},\n",
       "  {'conf': 1.0, 'end': 9.87, 'start': 9.78, 'word': 'the'},\n",
       "  {'conf': 1.0, 'end': 10.26, 'start': 9.87, 'word': 'news'},\n",
       "  {'conf': 1.0, 'end': 10.47, 'start': 10.26, 'word': 'and'},\n",
       "  {'conf': 1.0, 'end': 10.59, 'start': 10.47, 'word': 'the'},\n",
       "  {'conf': 1.0, 'end': 10.98, 'start': 10.59, 'word': 'interest'},\n",
       "  {'conf': 1.0, 'end': 11.19, 'start': 10.98, 'word': 'rate'},\n",
       "  {'conf': 1.0, 'end': 11.76, 'start': 11.19, 'word': 'increase'},\n",
       "  {'conf': 1.0, 'end': 12.87, 'start': 12.24, 'word': \"wasn't\"},\n",
       "  {'conf': 1.0, 'end': 13.35, 'start': 12.99, 'word': 'it'},\n",
       "  {'conf': 1.0, 'end': 13.62, 'start': 13.38, 'word': 'you'},\n",
       "  {'conf': 1.0, 'end': 13.77, 'start': 13.62, 'word': 'know'},\n",
       "  {'conf': 1.0, 'end': 13.89, 'start': 13.77, 'word': 'it'},\n",
       "  {'conf': 1.0, 'end': 14.01, 'start': 13.89, 'word': 'was'},\n",
       "  {'conf': 1.0, 'end': 14.4, 'start': 14.01, 'word': 'common'},\n",
       "  {'conf': 1.0, 'end': 14.85, 'start': 14.58, 'word': 'i'},\n",
       "  {'conf': 1.0, 'end': 15.03, 'start': 14.85, 'word': 'know'},\n",
       "  {'conf': 1.0, 'end': 15.15, 'start': 15.03, 'word': 'it'},\n",
       "  {'conf': 1.0, 'end': 15.3, 'start': 15.15, 'word': 'was'},\n",
       "  {'conf': 1.0, 'end': 15.63, 'start': 15.3, 'word': 'common'},\n",
       "  {'conf': 0.659231, 'end': 16.11, 'start': 15.63, 'word': 'wall'},\n",
       "  {'conf': 0.659231, 'end': 16.47, 'start': 16.11, 'word': 'street'},\n",
       "  {'conf': 1.0, 'end': 16.86, 'start': 16.47, 'word': 'news'},\n",
       "  {'conf': 0.55188, 'end': 17.19, 'start': 16.86, 'word': 'common'},\n",
       "  {'conf': 1.0, 'end': 18.21, 'start': 17.22, 'word': 'businesses'},\n",
       "  {'conf': 0.82715, 'end': 18.6, 'start': 18.24, 'word': 'knew'},\n",
       "  {'conf': 1.0, 'end': 18.75, 'start': 18.6, 'word': 'it'},\n",
       "  {'conf': 1.0, 'end': 18.93, 'start': 18.75, 'word': 'was'},\n",
       "  {'conf': 0.614166, 'end': 19.29, 'start': 18.93, 'word': 'common'},\n",
       "  {'conf': 1.0, 'end': 20.07, 'start': 19.77, 'word': 'so'},\n",
       "  {'conf': 1.0, 'end': 20.43, 'start': 20.07, 'word': 'on'},\n",
       "  {'conf': 1.0, 'end': 20.76, 'start': 20.52, 'word': 'this'},\n",
       "  {'conf': 1.0, 'end': 21.0, 'start': 20.76, 'word': 'fed'},\n",
       "  {'conf': 1.0, 'end': 21.21, 'start': 21.0, 'word': 'day'},\n",
       "  {'conf': 1.0, 'end': 21.33, 'start': 21.21, 'word': 'on'},\n",
       "  {'conf': 1.0, 'end': 21.48, 'start': 21.33, 'word': 'this'},\n",
       "  {'conf': 1.0, 'end': 21.9, 'start': 21.48, 'word': 'program'},\n",
       "  {'conf': 1.0, 'end': 22.29, 'start': 21.9, 'word': 'something'},\n",
       "  {'conf': 1.0, 'end': 22.35, 'start': 22.29, 'word': 'a'},\n",
       "  {'conf': 1.0, 'end': 22.53, 'start': 22.35, 'word': 'little'},\n",
       "  {'conf': 1.0, 'end': 22.65, 'start': 22.53, 'word': 'bit'},\n",
       "  {'conf': 1.0, 'end': 22.98, 'start': 22.65, 'word': 'different'},\n",
       "  {'conf': 0.553051, 'end': 23.22, 'start': 22.98, 'word': 'j'},\n",
       "  {'conf': 0.923888, 'end': 23.73, 'start': 23.22, 'word': 'powell'},\n",
       "  {'conf': 0.597847, 'end': 23.88, 'start': 23.73, 'word': 'in'},\n",
       "  {'conf': 1.0, 'end': 24.03, 'start': 23.88, 'word': 'his'},\n",
       "  {'conf': 1.0, 'end': 24.3, 'start': 24.03, 'word': 'own'},\n",
       "  {'conf': 1.0, 'end': 24.63, 'start': 24.3, 'word': 'words'},\n",
       "  {'conf': 1.0, 'end': 25.14, 'start': 24.66, 'word': 'five'},\n",
       "  {'conf': 1.0, 'end': 25.26, 'start': 25.14, 'word': 'of'},\n",
       "  {'conf': 0.490052, 'end': 25.41, 'start': 25.26, 'word': \"i'm\"},\n",
       "  {'conf': 1.0, 'end': 25.65, 'start': 25.41, 'word': 'his'},\n",
       "  {'conf': 1.0, 'end': 26.16, 'start': 25.65, 'word': 'most'},\n",
       "  {'conf': 1.0, 'end': 26.64, 'start': 26.19, 'word': 'used'},\n",
       "  {'conf': 1.0, 'end': 27.15, 'start': 26.64, 'word': 'economic'},\n",
       "  {'conf': 0.594545, 'end': 27.36, 'start': 27.15, 'word': 'words'},\n",
       "  {'conf': 1.0, 'end': 27.54, 'start': 27.36, 'word': 'from'},\n",
       "  {'conf': 1.0, 'end': 27.81, 'start': 27.54, 'word': \"today's\"},\n",
       "  {'conf': 1.0, 'end': 28.02, 'start': 27.81, 'word': 'press'},\n",
       "  {'conf': 1.0, 'end': 28.38, 'start': 28.02, 'word': 'conference'},\n",
       "  {'conf': 0.55254, 'end': 29.07, 'start': 28.89, 'word': 'where'},\n",
       "  {'conf': 1.0, 'end': 29.31, 'start': 29.07, 'word': 'number'},\n",
       "  {'conf': 1.0, 'end': 29.55, 'start': 29.31, 'word': 'one'},\n",
       "  {'conf': 1.0, 'end': 29.64, 'start': 29.55, 'word': 'of'},\n",
       "  {'conf': 1.0, 'end': 30.12, 'start': 29.64, 'word': 'course'},\n",
       "  {'conf': 1.0, 'end': 30.36, 'start': 30.15, 'word': \"it's\"},\n",
       "  {'conf': 1.0, 'end': 30.48, 'start': 30.36, 'word': 'the'},\n",
       "  {'conf': 0.453988, 'end': 30.81, 'start': 30.48, 'word': 'biggie'},\n",
       "  {'conf': 0.80125, 'end': 31.44, 'start': 31.2, 'word': 'two'},\n",
       "  {'conf': 1.0, 'end': 31.86, 'start': 31.44, 'word': 'percent'},\n",
       "  {'conf': 1.0, 'end': 32.4, 'start': 31.92, 'word': 'inflation'},\n",
       "  {'conf': 0.490885, 'end': 32.627783, 'start': 32.4, 'word': 'flesh'},\n",
       "  {'conf': 0.426556, 'end': 32.725554, 'start': 32.64, 'word': 'and'},\n",
       "  {'conf': 1.0, 'end': 33.18, 'start': 32.725554, 'word': 'inflation'},\n",
       "  {'conf': 1.0, 'end': 33.81, 'start': 33.18, 'word': 'inflation'},\n",
       "  {'conf': 1.0, 'end': 34.44, 'start': 33.84, 'word': 'inflation'},\n",
       "  {'conf': 1.0, 'end': 34.71, 'start': 34.44, 'word': 'place'},\n",
       "  {'conf': 1.0, 'end': 34.77, 'start': 34.71, 'word': 'in'},\n",
       "  {'conf': 1.0, 'end': 35.1, 'start': 34.77, 'word': 'english'},\n",
       "  {'conf': 1.0, 'end': 35.4, 'start': 35.1, 'word': 'dealing'},\n",
       "  {'conf': 1.0, 'end': 35.55, 'start': 35.4, 'word': 'with'},\n",
       "  {'conf': 1.0, 'end': 36.03, 'start': 35.55, 'word': 'inflation'},\n",
       "  {'conf': 0.789621, 'end': 36.63, 'start': 36.3, 'word': 'bells'},\n",
       "  {'conf': 1.0, 'end': 36.87, 'start': 36.63, 'word': 'big'},\n",
       "  {'conf': 1.0, 'end': 37.17, 'start': 36.87, 'word': 'worry'},\n",
       "  {'conf': 0.558685, 'end': 37.285745, 'start': 37.17, 'word': 'that'},\n",
       "  {'conf': 1.0, 'end': 37.53, 'start': 37.285745, 'word': 'thing'},\n",
       "  {'conf': 1.0, 'end': 37.921542, 'start': 37.53, 'word': 'keeping'},\n",
       "  {'conf': 0.813008, 'end': 38.07, 'start': 37.921542, 'word': 'him'},\n",
       "  {'conf': 1.0, 'end': 38.25, 'start': 38.07, 'word': 'up'},\n",
       "  {'conf': 1.0, 'end': 38.34, 'start': 38.25, 'word': 'at'},\n",
       "  {'conf': 1.0, 'end': 38.67, 'start': 38.37, 'word': 'night'},\n",
       "  {'conf': 1.0, 'end': 39.24, 'start': 38.7, 'word': 'price'},\n",
       "  {'conf': 1.0, 'end': 40.38, 'start': 39.3, 'word': 'stability'},\n",
       "  {'conf': 1.0, 'end': 40.65, 'start': 40.41, 'word': 'is'},\n",
       "  {'conf': 1.0, 'end': 40.77, 'start': 40.65, 'word': 'the'},\n",
       "  {'conf': 0.419379, 'end': 41.13, 'start': 40.77, 'word': 'feds'},\n",
       "  {'conf': 1.0, 'end': 41.64, 'start': 41.171202, 'word': 'whole'},\n",
       "  {'conf': 0.717333, 'end': 42.3, 'start': 41.64, 'word': 'ballgame'},\n",
       "  {'conf': 1.0, 'end': 42.48, 'start': 42.3, 'word': 'right'},\n",
       "  {'conf': 1.0, 'end': 42.75, 'start': 42.48, 'word': 'now'},\n",
       "  {'conf': 0.26863, 'end': 43.14, 'start': 42.78, 'word': 'pal'},\n",
       "  {'conf': 1.0, 'end': 43.62, 'start': 43.146138, 'word': 'basically'},\n",
       "  {'conf': 1.0, 'end': 44.01, 'start': 43.62, 'word': 'said'},\n",
       "  {'conf': 1.0, 'end': 44.25, 'start': 44.01, 'word': 'as'},\n",
       "  {'conf': 1.0, 'end': 44.61, 'start': 44.25, 'word': 'much'},\n",
       "  {'conf': 0.62198, 'end': 44.91, 'start': 44.76, 'word': 'to'},\n",
       "  {'conf': 0.62198, 'end': 45.15, 'start': 44.91, 'word': 'day'},\n",
       "  {'conf': 1.0, 'end': 45.3, 'start': 45.15, 'word': 'or'},\n",
       "  {'conf': 1.0, 'end': 45.51, 'start': 45.3, 'word': 'number'},\n",
       "  {'conf': 1.0, 'end': 45.84, 'start': 45.51, 'word': 'two'}],\n",
       " 'text': \"the funny thing about the big economic news of the day the fed raising interest rates have a percentage point was that there was only really one bit of actual news in the news and the interest rate increase wasn't it you know it was common i know it was common wall street news common businesses knew it was common so on this fed day on this program something a little bit different j powell in his own words five of i'm his most used economic words from today's press conference where number one of course it's the biggie two percent inflation flesh and inflation inflation inflation place in english dealing with inflation bells big worry that thing keeping him up at night price stability is the feds whole ballgame right now pal basically said as much to day or number two\"}"
      ]
     },
     "execution_count": 12,
     "metadata": {},
     "output_type": "execute_result"
    }
   ],
   "source": [
    "json.loads(result)     #here we can also see the confidence level of each word"
   ]
  },
  {
   "cell_type": "markdown",
   "id": "323ad0a6-38f8-42b4-b85c-56d3e5e1e650",
   "metadata": {},
   "source": [
    "Problem : No punctuation in the transcript so not readable"
   ]
  },
  {
   "cell_type": "markdown",
   "id": "d428b526-77b9-41cf-94cb-c23c094fca7e",
   "metadata": {},
   "source": [
    "Solution: we're using a library recasepunc - but since it's very large to download (1.4GB) i'm avoiding it's use. It won't bring much change despite the fact that the transcript won't carry any punctuation!:) "
   ]
  },
  {
   "cell_type": "markdown",
   "id": "9f881e2e-035a-4469-a3b1-72fd04c48ee4",
   "metadata": {},
   "source": [
    "This should be used after downloadign the model recasepunc from internet. UPDATE: I have accidently downloaded this so i used it. The results can be seen below. :)"
   ]
  },
  {
   "cell_type": "code",
   "execution_count": 13,
   "id": "0e0c339a-bd59-426a-8a62-3630ee3fc798",
   "metadata": {},
   "outputs": [],
   "source": [
    "import subprocess \n",
    "\n",
    "cased = subprocess.check_output(\"python vosk-recasepunc-en-0.22/recasepunc.py predict vosk-recasepunc-en-0.22/checkpoint\", shell=True, text = True, input=text)\n"
   ]
  },
  {
   "cell_type": "code",
   "execution_count": 14,
   "id": "22efe097-e369-40fa-b402-c85b7e381fcf",
   "metadata": {},
   "outputs": [
    {
     "data": {
      "text/plain": [
       "\"The funny thing about the big economic news of the day, the Fed raising interest rates have a percentage point was that there was only really one bit of actual news in the news. And the interest rate increase wasn ' t it. You know, it was common. I know it was common Wall Street news. Common businesses knew it was common. So on this Fed day on this program something a little bit different. J. Powell, in his own words, five of I ' m his most used economic words from today ' s press conference, where Number one, Of course, it ' s the biggie Two percent inflation, flesh and inflation inflation inflation place in English. Dealing with inflation bells. Big worry, that thing keeping him up at night. Price stability is the Feds whole ballgame right now, pal. Basically said as much to day or number two.\\n\""
      ]
     },
     "execution_count": 14,
     "metadata": {},
     "output_type": "execute_result"
    }
   ],
   "source": [
    "cased"
   ]
  },
  {
   "cell_type": "code",
   "execution_count": 17,
   "id": "11a4987e-be50-4e3d-8a42-346953511d07",
   "metadata": {},
   "outputs": [],
   "source": [
    "def voice_recognition(filename):\n",
    "    model = Model(model_name=\"vosk-model-small-en-us-0.15\")\n",
    "    rec = KaldiRecognizer(model, FRAME_RATE)\n",
    "    rec.SetWords(True)  \n",
    "\n",
    "    mp3 = AudioSegment.from_mp3(filename)\n",
    "    mp3 = mp3.set_channels(CHANNELS)\n",
    "    mp3 = mp3.set_frame_rate(FRAME_RATE)\n",
    "\n",
    "    step = 45000\n",
    "    transcript = \"\"\n",
    "    for i in range(0,len(mp3),step):\n",
    "        print(f\"Progress: (i/len(mp3))\")\n",
    "        segment = mp3[i:(i+step)]\n",
    "\n",
    "        rec.AcceptWaveform(segment.raw_data)\n",
    "        result = rec.Result()\n",
    "\n",
    "        text = json.loads(result)[\"text\"]\n",
    "        transcript += text\n",
    "    cased = subprocess.check_output(\"python vosk-recasepunc-en-0.22/recasepunc.py predict vosk-recasepunc-en-0.22/checkpoint\", shell=True, text = True, input=transcript)\n",
    "    return cased"
   ]
  },
  {
   "cell_type": "code",
   "execution_count": 18,
   "id": "f3c5ec4b-e71a-4d6a-b1d3-4d4e067a7cdc",
   "metadata": {},
   "outputs": [
    {
     "name": "stdout",
     "output_type": "stream",
     "text": [
      "Progress: (i/len(mp3))\n",
      "Progress: (i/len(mp3))\n"
     ]
    },
    {
     "data": {
      "text/plain": [
       "\"The funny thing about the big economic news of the day, the Fed raising interest rates have a percentage point was that there was only really one bit of actual news in the news. And the interest rate increase wasn ' t it ? You know, it was common. I know it was common Wall Street news. Common businesses knew it was common. So on this Fed day on this program something a little bit different. J Powell, in his own words, five of I ' m his most used economic words from today ' s press conference, where Number one, Of course, it ' s the biggie Two percent inflation, flesh and inflation inflation inflation place in English. Dealing with inflation bells. Big worry, that thing keeping him up at night. Price stability is the Feds whole ballgame right now. Pal, basically said as Muchtoday or number two.\\n\""
      ]
     },
     "execution_count": 18,
     "metadata": {},
     "output_type": "execute_result"
    }
   ],
   "source": [
    "voice_recognition(\"speech_recognition_marketplace.mp3\")"
   ]
  },
  {
   "cell_type": "markdown",
   "id": "c5695a49-d06e-4579-a18f-f0cbec55bf6e",
   "metadata": {},
   "source": [
    "### Summarizing the transcripts using hugging face transformers"
   ]
  },
  {
   "cell_type": "code",
   "execution_count": 29,
   "id": "dff180fc-d3dc-48ce-88b2-f61e8f2b85ee",
   "metadata": {},
   "outputs": [
    {
     "name": "stderr",
     "output_type": "stream",
     "text": [
      "Device set to use cpu\n"
     ]
    }
   ],
   "source": [
    "from transformers import pipeline\n",
    "\n",
    "summarizer = pipeline(\"summarization\",model=\"t5-small\") #small model less accurate"
   ]
  },
  {
   "cell_type": "code",
   "execution_count": 21,
   "id": "a7c84010-9f81-4f59-8942-e3be99ced618",
   "metadata": {},
   "outputs": [],
   "source": [
    "with open(\"transcript.txt\") as f:\n",
    "    transcript = f.read()"
   ]
  },
  {
   "cell_type": "code",
   "execution_count": 23,
   "id": "8bcb99b9-6475-4b24-9aa0-763747e8731f",
   "metadata": {},
   "outputs": [],
   "source": [
    "split_tokens = transcript.split(\" \")\n",
    "docs = []\n",
    "\n",
    "for i in range(0, len(split_tokens), 850):\n",
    "    selection = \" \".join(split_tokens[i:(i+850)])\n",
    "    docs.append(selection)"
   ]
  },
  {
   "cell_type": "code",
   "execution_count": 24,
   "id": "e987b951-a8b4-4767-853e-547dafefa394",
   "metadata": {},
   "outputs": [
    {
     "name": "stderr",
     "output_type": "stream",
     "text": [
      "Token indices sequence length is longer than the specified maximum sequence length for this model (1081 > 512). Running this sequence through the model will result in indexing errors\n"
     ]
    }
   ],
   "source": [
    "summaries = summarizer(docs)"
   ]
  },
  {
   "cell_type": "code",
   "execution_count": 25,
   "id": "1b11ba68-509d-4da6-897d-cf7cd5ce987a",
   "metadata": {
    "collapsed": true,
    "jupyter": {
     "outputs_hidden": true
    }
   },
   "outputs": [
    {
     "data": {
      "text/plain": [
       "[{'summary_text': \"Elon Musk has sealed a deal with the board to buy twitter . he said he would not get involved at all editorially . the board says it's going to have to see what happens . it' s an excellent question to see how this turns out .\"},\n",
       " {'summary_text': \"we all need to rethink their ramifications on communication in the country . we ' ll have the details when we do the numbers or mark your calendars for Friday . there are some nuances in the way that people experience inflation right now . some prices, food and energy were going up a lot .\"},\n",
       " {'summary_text': \"the national association for Business Economics is out with a new survey of economists to work at big companies . economists say their businesses have been book and pay increases of late . some economists don ' t want their firms to pay workers more in the future .\"},\n",
       " {'summary_text': 'checkout dot.com is a leading digital global payment solutions provider for brands like She and Grab, Sony, Electronics, Wise and Henkel Checkouts Flexible Payments . the platform is purpose built with performance, scalability and speed in mind .'},\n",
       " {'summary_text': \"eric liu: a fast way to fast profits is cutting jobs . he says the idea of maximizing shareholder value is an important reason why all that happen . in the eighties and nineties, he was the face of a ' spiritual restructurebring' he asks: is it even in the scripture, does the law require it? he writes .\"},\n",
       " {'summary_text': 'in one study, the share of profits going to stockholders has gone from fifty percent in the early eighties to eighty six percent in two thousand and thirteen, leaving an ever shrinking pool of money to invest in . the company itself in Washington has gotten on the marketplace, according to the Wall Street Journal .'}]"
      ]
     },
     "execution_count": 25,
     "metadata": {},
     "output_type": "execute_result"
    }
   ],
   "source": [
    "summaries"
   ]
  },
  {
   "cell_type": "code",
   "execution_count": 26,
   "id": "d81eb5a3-c259-44d9-856e-da06d44bbd3c",
   "metadata": {},
   "outputs": [],
   "source": [
    "summary = \"\\n\\n\".join(d[\"summary_text\"] for d in summaries)"
   ]
  },
  {
   "cell_type": "code",
   "execution_count": 27,
   "id": "26f860d9-3733-4550-92e0-6b4c3f4b2f70",
   "metadata": {},
   "outputs": [
    {
     "name": "stdout",
     "output_type": "stream",
     "text": [
      "Elon Musk has sealed a deal with the board to buy twitter . he said he would not get involved at all editorially . the board says it's going to have to see what happens . it' s an excellent question to see how this turns out .\n",
      "\n",
      "we all need to rethink their ramifications on communication in the country . we ' ll have the details when we do the numbers or mark your calendars for Friday . there are some nuances in the way that people experience inflation right now . some prices, food and energy were going up a lot .\n",
      "\n",
      "the national association for Business Economics is out with a new survey of economists to work at big companies . economists say their businesses have been book and pay increases of late . some economists don ' t want their firms to pay workers more in the future .\n",
      "\n",
      "checkout dot.com is a leading digital global payment solutions provider for brands like She and Grab, Sony, Electronics, Wise and Henkel Checkouts Flexible Payments . the platform is purpose built with performance, scalability and speed in mind .\n",
      "\n",
      "eric liu: a fast way to fast profits is cutting jobs . he says the idea of maximizing shareholder value is an important reason why all that happen . in the eighties and nineties, he was the face of a ' spiritual restructurebring' he asks: is it even in the scripture, does the law require it? he writes .\n",
      "\n",
      "in one study, the share of profits going to stockholders has gone from fifty percent in the early eighties to eighty six percent in two thousand and thirteen, leaving an ever shrinking pool of money to invest in . the company itself in Washington has gotten on the marketplace, according to the Wall Street Journal .\n"
     ]
    }
   ],
   "source": [
    "print(summary)"
   ]
  },
  {
   "cell_type": "code",
   "execution_count": null,
   "id": "e4504851-b6c4-414c-8ab4-0e407a8dd6b6",
   "metadata": {},
   "outputs": [],
   "source": []
  }
 ],
 "metadata": {
  "kernelspec": {
   "display_name": "Python 3 (ipykernel)",
   "language": "python",
   "name": "python3"
  },
  "language_info": {
   "codemirror_mode": {
    "name": "ipython",
    "version": 3
   },
   "file_extension": ".py",
   "mimetype": "text/x-python",
   "name": "python",
   "nbconvert_exporter": "python",
   "pygments_lexer": "ipython3",
   "version": "3.12.7"
  }
 },
 "nbformat": 4,
 "nbformat_minor": 5
}
